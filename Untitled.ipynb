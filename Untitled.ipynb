{
 "cells": [
  {
   "cell_type": "code",
   "execution_count": 2,
   "id": "fb785a02",
   "metadata": {},
   "outputs": [],
   "source": [
    "# import libraries\n",
    "\n",
    "import numpy as np\n",
    "import matplotlib.pyplot as plt"
   ]
  },
  {
   "cell_type": "code",
   "execution_count": 3,
   "id": "4a278a6d",
   "metadata": {},
   "outputs": [
    {
     "data": {
      "text/plain": [
       "array([0, 1, 0, ..., 3, 0, 1], dtype=uint8)"
      ]
     },
     "execution_count": 3,
     "metadata": {},
     "output_type": "execute_result"
    }
   ],
   "source": [
    "#get the training data\n",
    "\n",
    "data = np.load('fashion_train.npy')\n",
    "data.shape\n",
    "data[:,-1]"
   ]
  },
  {
   "cell_type": "code",
   "execution_count": 4,
   "id": "0a8becc0",
   "metadata": {},
   "outputs": [
    {
     "data": {
      "text/plain": [
       "{0: 2033, 1: 1947, 2: 2001, 3: 2005, 4: 2014}"
      ]
     },
     "execution_count": 4,
     "metadata": {},
     "output_type": "execute_result"
    }
   ],
   "source": [
    "# dictionary to see how many pieces of each clothing are\n",
    "\n",
    "x = np.array(data[:,-1])\n",
    "dictionary = {0:0,\n",
    "             1:0,\n",
    "             2:0,\n",
    "             3:0,\n",
    "             4:0}\n",
    "for i in range(len(data)):\n",
    "    dictionary[x[i]] += 1\n",
    "dictionary"
   ]
  },
  {
   "cell_type": "code",
   "execution_count": 5,
   "id": "df6496f6",
   "metadata": {},
   "outputs": [
    {
     "data": {
      "image/png": "[encoded data removed]",
      "text/plain": [
       "<Figure size 1000x500 with 5 Axes>"
      ]
     },
     "metadata": {},
     "output_type": "display_data"
    }
   ],
   "source": [
    "# Plot the first 5 images\n",
    "plt.figure(figsize=(10, 5), dpi=100)\n",
    "for i in range(5):\n",
    "    \n",
    "    image = np.array(data[i][:-1]).reshape(28, 28)\n",
    "\n",
    "    plt.subplot(1, 5, i + 1)\n",
    "    plt.imshow(image, cmap='gray')\n",
    "    plt.axis('off')\n",
    "    plt.title(f\"Image {i+1}\")\n",
    "\n",
    "plt.show()"
   ]
  },
  {
   "cell_type": "code",
   "execution_count": 6,
   "id": "ebc53d45",
   "metadata": {},
   "outputs": [
    {
     "name": "stdout",
     "output_type": "stream",
     "text": [
      "514\n"
     ]
    }
   ],
   "source": [
    "picture = np.array(data[0][:-1]).reshape(28,28)\n",
    "\n",
    "non_black_pixel_count = np.sum(picture > 0)\n",
    "print(non_black_pixel_count)"
   ]
  },
  {
   "cell_type": "code",
   "execution_count": 7,
   "id": "141da48d",
   "metadata": {},
   "outputs": [
    {
     "data": {
      "text/plain": [
       "{0: 464, 1: 272, 2: 508, 3: 336, 4: 492}"
      ]
     },
     "execution_count": 7,
     "metadata": {},
     "output_type": "execute_result"
    }
   ],
   "source": [
    "# average pixel number for each clothing brand\n",
    "\n",
    "dictionary2 = {0:0,\n",
    "             1:0,\n",
    "             2:0,\n",
    "             3:0,\n",
    "             4:0}\n",
    "for i in range(len(data)):   \n",
    "    image = np.array(data[i][:-1]).reshape(28, 28)\n",
    "    image2 = np.array(data[:,-1])\n",
    "    non_black_pixel_count = 0\n",
    "    non_black_pixel_count = np.sum(image > 0)\n",
    "    dictionary2[x[i]] += non_black_pixel_count\n",
    "for i in range(5):\n",
    "    dictionary2[i] = dictionary2[i] // dictionary[i]\n",
    "dictionary2"
   ]
  },
  {
   "cell_type": "code",
   "execution_count": 13,
   "id": "e18129e8",
   "metadata": {},
   "outputs": [
    {
     "data": {
      "text/plain": [
       "{0: [212, 701], 1: [149, 639], 2: [287, 706], 3: [166, 688], 4: [198, 718]}"
      ]
     },
     "execution_count": 13,
     "metadata": {},
     "output_type": "execute_result"
    }
   ],
   "source": [
    "# minimum and maximum pixel number for each clothing brand\n",
    "\n",
    "dictionary3 = {}\n",
    "for j in range(5):\n",
    "    minimum = 10000\n",
    "    maximum = 0\n",
    "    list = []\n",
    "    for i in range(len(data)):\n",
    "        image = np.array(data[i][:-1]).reshape(28, 28)\n",
    "        image2 = np.array(data[:,-1])\n",
    "        if image2[i] == j:\n",
    "            non_black_pixel_count = np.sum(image > 0)\n",
    "            if non_black_pixel_count < minimum:\n",
    "                minimum = non_black_pixel_count\n",
    "                if j == 0:\n",
    "                    min_top = np.array(data[i][:-1]).reshape(28, 28)\n",
    "                elif j == 1:\n",
    "                    min_trousers = np.array(data[i][:-1]).reshape(28, 28)\n",
    "                elif j == 2:\n",
    "                    min_pullover = np.array(data[i][:-1]).reshape(28, 28)\n",
    "                elif j == 3:\n",
    "                    min_dress = np.array(data[i][:-1]).reshape(28, 28)\n",
    "                else:\n",
    "                    min_shirt = np.array(data[i][:-1]).reshape(28, 28)\n",
    "            elif non_black_pixel_count > maximum:\n",
    "                maximum = non_black_pixel_count\n",
    "                if j == 0:\n",
    "                    max_top = np.array(data[i][:-1]).reshape(28, 28)\n",
    "                elif j == 1:\n",
    "                    max_trousers = np.array(data[i][:-1]).reshape(28, 28)\n",
    "                elif j == 2:\n",
    "                    max_pullover = np.array(data[i][:-1]).reshape(28, 28)\n",
    "                elif j == 3:\n",
    "                    max_dress = np.array(data[i][:-1]).reshape(28, 28)\n",
    "                else:\n",
    "                    max_shirt = np.array(data[i][:-1]).reshape(28, 28)\n",
    "    list.append(minimum)\n",
    "    list.append(maximum)\n",
    "    dictionary3[j] = list\n",
    "    \n",
    "dictionary3"
   ]
  },
  {
   "cell_type": "code",
   "execution_count": 14,
   "id": "68f376fd",
   "metadata": {},
   "outputs": [
    {
     "data": {
      "image/png": "[encoded data removed]",
      "text/plain": [
       "<Figure size 1000x500 with 1 Axes>"
      ]
     },
     "metadata": {},
     "output_type": "display_data"
    }
   ],
   "source": [
    "plt.figure(figsize=(10, 5), dpi=100)\n",
    "for i in range(10):   \n",
    "    plt.subplot(1, 10, i + 1)\n",
    "    plt.imshow(image, cmap='gray')\n",
    "    plt.axis('off')\n",
    "    plt.title(f\"Image {i+1}\")\n",
    "plt.show()"
   ]
  },
  {
   "cell_type": "code",
   "execution_count": 24,
   "id": "35d4534e",
   "metadata": {},
   "outputs": [
    {
     "data": {
      "text/plain": [
       "<matplotlib.image.AxesImage at 0x1ad18b96310>"
      ]
     },
     "execution_count": 24,
     "metadata": {},
     "output_type": "execute_result"
    },
    {
     "data": {
      "image/png": "[encoded data removed]",
      "text/plain": [
       "<Figure size 640x480 with 1 Axes>"
      ]
     },
     "metadata": {},
     "output_type": "display_data"
    }
   ],
   "source": [
    "plt.imshow(min_top, cmap = 'gray')\n"
   ]
  },
  {
   "cell_type": "code",
   "execution_count": null,
   "id": "578b46d9",
   "metadata": {},
   "outputs": [],
   "source": []
  }
 ],
 "metadata": {
  "kernelspec": {
   "display_name": "Python 3 (ipykernel)",
   "language": "python",
   "name": "python3"
  },
  "language_info": {
   "codemirror_mode": {
    "name": "ipython",
    "version": 3
   },
   "file_extension": ".py",
   "mimetype": "text/x-python",
   "name": "python",
   "nbconvert_exporter": "python",
   "pygments_lexer": "ipython3",
   "version": "3.11.4"
  }
 },
 "nbformat": 4,
 "nbformat_minor": 5
}
